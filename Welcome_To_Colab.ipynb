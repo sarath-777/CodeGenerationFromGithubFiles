{
  "cells": [
    {
      "cell_type": "markdown",
      "metadata": {
        "id": "view-in-github",
        "colab_type": "text"
      },
      "source": [
        "<a href=\"https://colab.research.google.com/github/sarath-777/CodeGenerationFromGithubFiles/blob/main/Welcome_To_Colab.ipynb\" target=\"_parent\"><img src=\"https://colab.research.google.com/assets/colab-badge.svg\" alt=\"Open In Colab\"/></a>"
      ]
    },
    {
      "cell_type": "code",
      "source": [
        "import os\n",
        "import subprocess\n",
        "import tempfile\n",
        "import shutil\n",
        "import requests\n",
        "\n",
        "# Set your Groq API key\n",
        "from google.colab import userdata\n",
        "GROQ_API_KEY =userdata.get('groqapi')\n",
        "\n",
        "GROQ_API_URL = \"https://api.groq.com/v1/chat/completions\"\n",
        "\n",
        "def clone_repo(repo_url):\n",
        "    \"\"\"Clones a GitHub repository into a temporary directory.\"\"\"\n",
        "    temp_dir = tempfile.mkdtemp()\n",
        "    subprocess.run([\"git\", \"clone\", repo_url, temp_dir], check=True)\n",
        "    return temp_dir\n",
        "\n",
        "def analyze_project_structure(repo_path):\n",
        "    \"\"\"Analyzes the project structure and returns a list of file paths.\"\"\"\n",
        "    project_files = []\n",
        "    for root, _, files in os.walk(repo_path):\n",
        "        for file in files:\n",
        "            if file.endswith((\".py\", \".js\", \".ts\", \".html\", \".css\", \".md\")):  # Adjust based on project type\n",
        "                project_files.append(os.path.relpath(os.path.join(root, file), repo_path))\n",
        "    return project_files\n",
        "\n",
        "def send_to_groq(repo_files, feature_description):\n",
        "    \"\"\"Sends project structure and feature request to Groq API for code modification suggestions.\"\"\"\n",
        "\n",
        "    headers = {\n",
        "        \"Authorization\": f\"Bearer {GROQ_API_KEY}\",\n",
        "        \"Content-Type\": \"application/json\"\n",
        "    }\n",
        "\n",
        "    prompt = f\"\"\"\n",
        "    You are an expert software developer. The project contains these files:\n",
        "    {repo_files}\n",
        "\n",
        "    A new feature needs to be added: {feature_description}\n",
        "\n",
        "    Based on the existing structure, provide a **detailed step-by-step guide** on:\n",
        "    1. **Which files need to be modified?**\n",
        "    2. **What code changes should be made?** (Include actual code snippets)\n",
        "    3. **Any additional dependencies or configurations required?**\n",
        "\n",
        "    Your response should be **clear and structured**.\n",
        "    \"\"\"\n",
        "\n",
        "    data = {\n",
        "        \"model\": \"llama3-8b-8192\",  # You can use other Groq models\n",
        "        \"messages\": [\n",
        "            {\"role\": \"system\", \"content\": \"You are a coding assistant that provides precise modification suggestions.\"},\n",
        "            {\"role\": \"user\", \"content\": prompt}\n",
        "        ],\n",
        "        \"temperature\": 0.5,\n",
        "        \"max_tokens\": 1000\n",
        "    }\n",
        "\n",
        "    response = requests.post(GROQ_API_URL, headers=headers, json=data)\n",
        "\n",
        "    if response.status_code == 200:\n",
        "        return response.json().get(\"choices\", [{}])[0].get(\"message\", {}).get(\"content\", \"No response from model.\")\n",
        "    else:\n",
        "        return f\"Error: {response.status_code} - {response.text}\"\n",
        "\n",
        "def main():\n",
        "    repo_url = input(\"Enter GitHub repository URL: \").strip()\n",
        "    feature_desc = input(\"Describe the new feature: \").strip()\n",
        "\n",
        "    try:\n",
        "        repo_path = clone_repo(repo_url)\n",
        "        print(\"✅ Repository cloned successfully.\")\n",
        "\n",
        "        project_files = analyze_project_structure(repo_path)\n",
        "        print(\"✅ Project structure analyzed.\")\n",
        "\n",
        "        suggestions = send_to_groq(project_files, feature_desc)\n",
        "        print(\"\\n📌 Suggested Code Changes:\\n\", suggestions)\n",
        "\n",
        "    finally:\n",
        "        shutil.rmtree(repo_path)  # Clean up cloned repo\n",
        "        print(\"🗑️ Temporary files cleaned up.\")\n",
        "\n",
        "if __name__ == \"__main__\":\n",
        "    main()\n"
      ],
      "metadata": {
        "id": "3RMVE6r2pgM7",
        "outputId": "362d357f-57bd-4c46-d6e5-0f630b4b3d57",
        "colab": {
          "base_uri": "https://localhost:8080/"
        }
      },
      "execution_count": 1,
      "outputs": [
        {
          "output_type": "stream",
          "name": "stdout",
          "text": [
            "Enter GitHub repository URL: https://github.com/sarath-777/Sarath_26-02_2025\n",
            "Describe the new feature: this is a code to a chat bot so make this chatbot just take questions regarding wed development and donot answer to any questions other than web development.\n",
            "✅ Repository cloned successfully.\n",
            "✅ Project structure analyzed.\n",
            "\n",
            "📌 Suggested Code Changes:\n",
            " Error: 404 - {\"error\":{\"message\":\"Unknown request URL: POST /v1/chat/completions. Please check the URL for typos, or see the docs at https://console.groq.com/docs/\",\"type\":\"invalid_request_error\",\"code\":\"unknown_url\"}}\n",
            "\n",
            "🗑️ Temporary files cleaned up.\n"
          ]
        }
      ]
    },
    {
      "cell_type": "code",
      "source": [
        "import os\n",
        "import subprocess\n",
        "import shutil\n",
        "import requests\n",
        "\n",
        "# Use Google Colab's userdata for storing API keys securely\n",
        "from google.colab import userdata\n",
        "GROQ_API_KEY = userdata.get('groqapi')\n",
        "\n",
        "GROQ_API_URL = \"https://api.groq.com/openai/v1/chat/completions\"\n",
        "\n",
        "def clone_repo(repo_url, dest_path=\"/content/cloned_repo\"):\n",
        "    \"\"\"Clones a GitHub repository into a specified directory.\"\"\"\n",
        "    if os.path.exists(dest_path):\n",
        "        shutil.rmtree(dest_path)  # Clean up existing directory\n",
        "    subprocess.run([\"git\", \"clone\", repo_url, dest_path], check=True)\n",
        "    return dest_path\n",
        "\n",
        "def analyze_project_structure(repo_path):\n",
        "    \"\"\"Analyzes the project structure and returns a list of file paths.\"\"\"\n",
        "    project_files = []\n",
        "    for root, _, files in os.walk(repo_path):\n",
        "        for file in files:\n",
        "            if file.endswith((\".py\", \".js\", \".ts\", \".html\", \".css\", \".md\")):\n",
        "                project_files.append(os.path.relpath(os.path.join(root, file), repo_path))\n",
        "    return project_files\n",
        "\n",
        "def send_to_groq(repo_files, feature_description):\n",
        "    \"\"\"Sends project structure and feature request to Groq API for code modification suggestions.\"\"\"\n",
        "    headers = {\n",
        "        \"Authorization\": f\"Bearer {GROQ_API_KEY}\",\n",
        "        \"Content-Type\": \"application/json\"\n",
        "    }\n",
        "\n",
        "    prompt = f\"\"\"\n",
        "    You are an expert software developer. The project contains these files:\n",
        "    {repo_files}\n",
        "\n",
        "    A new feature needs to be added: {feature_description}\n",
        "\n",
        "    Based on the existing structure, provide a **detailed step-by-step guide** on:\n",
        "    1. **Which files need to be modified?**\n",
        "    2. **What code changes should be made?** (Include actual code snippets)\n",
        "    3. **Any additional dependencies or configurations required?**\n",
        "\n",
        "    Your response should be **clear and structured**.\n",
        "    \"\"\"\n",
        "\n",
        "    data = {\n",
        "        \"model\": \"llama3-8b-8192\",\n",
        "        \"messages\": [\n",
        "            {\"role\": \"system\", \"content\": \"You are a coding assistant that provides precise modification suggestions.\"},\n",
        "            {\"role\": \"user\", \"content\": prompt}\n",
        "        ],\n",
        "        \"temperature\": 0.5,\n",
        "        \"max_tokens\": 1000\n",
        "    }\n",
        "\n",
        "    response = requests.post(GROQ_API_URL, headers=headers, json=data)\n",
        "\n",
        "    if response.status_code == 200:\n",
        "        return response.json().get(\"choices\", [{}])[0].get(\"message\", {}).get(\"content\", \"No response from model.\")\n",
        "    else:\n",
        "        return f\"Error: {response.status_code} - {response.text}\"\n",
        "\n",
        "def main(repo_url, feature_desc):\n",
        "    try:\n",
        "        repo_path = clone_repo(repo_url)\n",
        "        print(\"✅ Repository cloned successfully.\")\n",
        "\n",
        "        project_files = analyze_project_structure(repo_path)\n",
        "        print(\"✅ Project structure analyzed.\")\n",
        "\n",
        "        suggestions = send_to_groq(project_files, feature_desc)\n",
        "        print(\"\\n📌 Suggested Code Changes:\\n\", suggestions)\n",
        "\n",
        "    finally:\n",
        "        if os.path.exists(repo_path):\n",
        "            shutil.rmtree(repo_path)  # Clean up cloned repo\n",
        "            print(\"🗑️ Temporary files cleaned up.\")\n",
        "\n",
        "# Example usage in a Colab cell\n",
        "github_url = \"https://github.com/sarath-777/Sarath_26-02_2025\"  # Replace with actual repo\n",
        "feature_request = \"this is a code to a chat bot so make this chatbot just take questions regarding wed development and donot answer to any questions other than web development.\"\n",
        "main(github_url, feature_request)"
      ],
      "metadata": {
        "id": "n9ta5PZJqPWD",
        "outputId": "e1f192cc-771d-4ee6-c9b8-67521bd66e2f",
        "colab": {
          "base_uri": "https://localhost:8080/"
        }
      },
      "execution_count": 7,
      "outputs": [
        {
          "output_type": "stream",
          "name": "stdout",
          "text": [
            "✅ Repository cloned successfully.\n",
            "✅ Project structure analyzed.\n",
            "\n",
            "📌 Suggested Code Changes:\n",
            " **Step-by-Step Guide to Add a Chatbot for Web Development Questions**\n",
            "\n",
            "**1. Files to be modified:**\n",
            "\n",
            "* `README.md`: This file will serve as a starting point for our chatbot, and we'll add some basic information about the chatbot's functionality.\n",
            "\n",
            "**2. Code changes:**\n",
            "\n",
            "a. In `README.md`, add the following code snippet to define the chatbot's functionality:\n",
            "```markdown\n",
            "# Web Development Chatbot\n",
            "\n",
            "This chatbot is designed to answer questions related to web development. It can help you with topics such as HTML, CSS, JavaScript, React, Angular, and Vue.js.\n",
            "\n",
            "To interact with the chatbot, simply type your question in the chat window below.\n",
            "```\n",
            "b. Since we don't have any existing code for the chatbot, we'll create a new file called `chatbot.py`. Add the following code to this file:\n",
            "```python\n",
            "import re\n",
            "\n",
            "# Define a dictionary to store web development-related questions and answers\n",
            "web_dev_questions = {\n",
            "    \"What is HTML?\": \"HTML stands for HyperText Markup Language, which is used to create web pages.\",\n",
            "    \"What is CSS?\": \"CSS stands for Cascading Style Sheets, which is used to control the layout and appearance of web pages.\",\n",
            "    # Add more questions and answers as needed\n",
            "}\n",
            "\n",
            "def chatbot(question):\n",
            "    # Use regular expressions to match the question with a known web development-related question\n",
            "    for pattern, answer in web_dev_questions.items():\n",
            "        if re.match(pattern, question, re.IGNORECASE):\n",
            "            return answer\n",
            "    return \"I'm not sure I understand your question. Please rephrase it.\"\n",
            "\n",
            "# Example usage:\n",
            "question = input(\"Ask me a question: \")\n",
            "print(chatbot(question))\n",
            "```\n",
            "c. To integrate the chatbot with the existing project structure, create a new directory called `chatbot` inside the project root. Move the `chatbot.py` file into this directory.\n",
            "\n",
            "**3. Additional dependencies or configurations required:**\n",
            "\n",
            "* None, as we're using Python's built-in `re` module for regular expressions and the `input` function for user input.\n",
            "\n",
            "**Note:** This is a basic implementation of a chatbot, and you can improve it by adding more questions and answers, as well as implementing more advanced natural language processing techniques. Additionally, you may want to consider using a more robust chatbot framework or library to handle more complex conversations.\n",
            "🗑️ Temporary files cleaned up.\n"
          ]
        }
      ]
    },
    {
      "cell_type": "code",
      "source": [
        "import os\n",
        "\n",
        "repo_path = \"/content/cloned_repo\"\n",
        "if os.path.exists(repo_path):\n",
        "    print(\"✅ Repo exists at:\", repo_path)\n",
        "    print(\"📂 Contents of the repo:\")\n",
        "    os.system(f\"ls -lah {repo_path}\")\n",
        "else:\n",
        "    print(\"❌ Repository not found! Cloning might have failed.\")\n"
      ],
      "metadata": {
        "id": "ho5OM_QOtPy8",
        "outputId": "da7639d0-4bb2-4c38-faec-027e51e28ef8",
        "colab": {
          "base_uri": "https://localhost:8080/"
        }
      },
      "execution_count": 8,
      "outputs": [
        {
          "output_type": "stream",
          "name": "stdout",
          "text": [
            "❌ Repository not found! Cloning might have failed.\n"
          ]
        }
      ]
    },
    {
      "cell_type": "markdown",
      "source": [],
      "metadata": {
        "id": "wFtWUZLW2kh8"
      }
    },
    {
      "cell_type": "code",
      "source": [
        "\n",
        "!ls -R /content/cloned_repo\n"
      ],
      "metadata": {
        "id": "fEr7m64ZrwF6",
        "outputId": "21ac44ca-309a-49ec-a06f-5a7c2a9ad74b",
        "colab": {
          "base_uri": "https://localhost:8080/"
        }
      },
      "execution_count": 6,
      "outputs": [
        {
          "output_type": "stream",
          "name": "stdout",
          "text": [
            "ls: cannot access '/content/cloned_repo': No such file or directory\n"
          ]
        }
      ]
    },
    {
      "cell_type": "code",
      "source": [
        "from google.colab import drive\n",
        "drive.mount('/content/drive')"
      ],
      "metadata": {
        "id": "Xs81kUSQsVCS"
      },
      "execution_count": null,
      "outputs": []
    },
    {
      "cell_type": "markdown",
      "source": [],
      "metadata": {
        "id": "kZ9fePlF2ljt"
      }
    },
    {
      "cell_type": "markdown",
      "source": [
        "using git hub token\n"
      ],
      "metadata": {
        "id": "K4qQYuZy2lwG"
      }
    },
    {
      "cell_type": "code",
      "source": [
        "import requests\n",
        "from google.colab import userdata\n",
        "GITHUB_TOKEN =userdata.get('githubtoken')\n",
        "\n",
        "GITHUB_API_URL = \"https://api.github.com/repos/sarath-777/ust_training_project\"\n",
        "\n",
        "headers = {\"Authorization\": f\"token {GITHUB_TOKEN}\"}\n",
        "response = requests.get(GITHUB_API_URL, headers=headers)\n",
        "print(response.status_code, response.json())\n"
      ],
      "metadata": {
        "id": "-UQKwE-X31mF",
        "outputId": "62352335-37da-4add-b378-6499e1ec96eb",
        "colab": {
          "base_uri": "https://localhost:8080/"
        }
      },
      "execution_count": 12,
      "outputs": [
        {
          "output_type": "stream",
          "name": "stdout",
          "text": [
            "200 {'id': 887679173, 'node_id': 'R_kgDONOjoxQ', 'name': 'ust_training_project', 'full_name': 'sarath-777/ust_training_project', 'private': False, 'owner': {'login': 'sarath-777', 'id': 84536795, 'node_id': 'MDQ6VXNlcjg0NTM2Nzk1', 'avatar_url': 'https://avatars.githubusercontent.com/u/84536795?v=4', 'gravatar_id': '', 'url': 'https://api.github.com/users/sarath-777', 'html_url': 'https://github.com/sarath-777', 'followers_url': 'https://api.github.com/users/sarath-777/followers', 'following_url': 'https://api.github.com/users/sarath-777/following{/other_user}', 'gists_url': 'https://api.github.com/users/sarath-777/gists{/gist_id}', 'starred_url': 'https://api.github.com/users/sarath-777/starred{/owner}{/repo}', 'subscriptions_url': 'https://api.github.com/users/sarath-777/subscriptions', 'organizations_url': 'https://api.github.com/users/sarath-777/orgs', 'repos_url': 'https://api.github.com/users/sarath-777/repos', 'events_url': 'https://api.github.com/users/sarath-777/events{/privacy}', 'received_events_url': 'https://api.github.com/users/sarath-777/received_events', 'type': 'User', 'user_view_type': 'public', 'site_admin': False}, 'html_url': 'https://github.com/sarath-777/ust_training_project', 'description': 'Residence Communication Web app', 'fork': False, 'url': 'https://api.github.com/repos/sarath-777/ust_training_project', 'forks_url': 'https://api.github.com/repos/sarath-777/ust_training_project/forks', 'keys_url': 'https://api.github.com/repos/sarath-777/ust_training_project/keys{/key_id}', 'collaborators_url': 'https://api.github.com/repos/sarath-777/ust_training_project/collaborators{/collaborator}', 'teams_url': 'https://api.github.com/repos/sarath-777/ust_training_project/teams', 'hooks_url': 'https://api.github.com/repos/sarath-777/ust_training_project/hooks', 'issue_events_url': 'https://api.github.com/repos/sarath-777/ust_training_project/issues/events{/number}', 'events_url': 'https://api.github.com/repos/sarath-777/ust_training_project/events', 'assignees_url': 'https://api.github.com/repos/sarath-777/ust_training_project/assignees{/user}', 'branches_url': 'https://api.github.com/repos/sarath-777/ust_training_project/branches{/branch}', 'tags_url': 'https://api.github.com/repos/sarath-777/ust_training_project/tags', 'blobs_url': 'https://api.github.com/repos/sarath-777/ust_training_project/git/blobs{/sha}', 'git_tags_url': 'https://api.github.com/repos/sarath-777/ust_training_project/git/tags{/sha}', 'git_refs_url': 'https://api.github.com/repos/sarath-777/ust_training_project/git/refs{/sha}', 'trees_url': 'https://api.github.com/repos/sarath-777/ust_training_project/git/trees{/sha}', 'statuses_url': 'https://api.github.com/repos/sarath-777/ust_training_project/statuses/{sha}', 'languages_url': 'https://api.github.com/repos/sarath-777/ust_training_project/languages', 'stargazers_url': 'https://api.github.com/repos/sarath-777/ust_training_project/stargazers', 'contributors_url': 'https://api.github.com/repos/sarath-777/ust_training_project/contributors', 'subscribers_url': 'https://api.github.com/repos/sarath-777/ust_training_project/subscribers', 'subscription_url': 'https://api.github.com/repos/sarath-777/ust_training_project/subscription', 'commits_url': 'https://api.github.com/repos/sarath-777/ust_training_project/commits{/sha}', 'git_commits_url': 'https://api.github.com/repos/sarath-777/ust_training_project/git/commits{/sha}', 'comments_url': 'https://api.github.com/repos/sarath-777/ust_training_project/comments{/number}', 'issue_comment_url': 'https://api.github.com/repos/sarath-777/ust_training_project/issues/comments{/number}', 'contents_url': 'https://api.github.com/repos/sarath-777/ust_training_project/contents/{+path}', 'compare_url': 'https://api.github.com/repos/sarath-777/ust_training_project/compare/{base}...{head}', 'merges_url': 'https://api.github.com/repos/sarath-777/ust_training_project/merges', 'archive_url': 'https://api.github.com/repos/sarath-777/ust_training_project/{archive_format}{/ref}', 'downloads_url': 'https://api.github.com/repos/sarath-777/ust_training_project/downloads', 'issues_url': 'https://api.github.com/repos/sarath-777/ust_training_project/issues{/number}', 'pulls_url': 'https://api.github.com/repos/sarath-777/ust_training_project/pulls{/number}', 'milestones_url': 'https://api.github.com/repos/sarath-777/ust_training_project/milestones{/number}', 'notifications_url': 'https://api.github.com/repos/sarath-777/ust_training_project/notifications{?since,all,participating}', 'labels_url': 'https://api.github.com/repos/sarath-777/ust_training_project/labels{/name}', 'releases_url': 'https://api.github.com/repos/sarath-777/ust_training_project/releases{/id}', 'deployments_url': 'https://api.github.com/repos/sarath-777/ust_training_project/deployments', 'created_at': '2024-11-13T05:06:09Z', 'updated_at': '2025-03-12T10:25:25Z', 'pushed_at': '2024-11-26T16:25:52Z', 'git_url': 'git://github.com/sarath-777/ust_training_project.git', 'ssh_url': 'git@github.com:sarath-777/ust_training_project.git', 'clone_url': 'https://github.com/sarath-777/ust_training_project.git', 'svn_url': 'https://github.com/sarath-777/ust_training_project', 'homepage': None, 'size': 22283, 'stargazers_count': 0, 'watchers_count': 0, 'language': 'Python', 'has_issues': False, 'has_projects': True, 'has_downloads': True, 'has_wiki': False, 'has_pages': False, 'has_discussions': False, 'forks_count': 0, 'mirror_url': None, 'archived': False, 'disabled': False, 'open_issues_count': 0, 'license': None, 'allow_forking': True, 'is_template': False, 'web_commit_signoff_required': False, 'topics': [], 'visibility': 'public', 'forks': 0, 'open_issues': 0, 'watchers': 0, 'default_branch': 'main', 'permissions': {'admin': True, 'maintain': True, 'push': True, 'triage': True, 'pull': True}, 'network_count': 0, 'subscribers_count': 0}\n"
          ]
        }
      ]
    },
    {
      "cell_type": "code",
      "source": [
        "import requests\n",
        "import certifi\n",
        "# Set your API keys\n",
        "\n",
        "from google.colab import userdata\n",
        "GROQ_API_KEY=userdata.get('groqapi')\n",
        "GITHUB_TOKEN=userdata.get('githubtoken')\n",
        "# GitHub & Groq API URLs\n",
        "GITHUB_API_URL = \"https://api.github.com/repos/\"\n",
        "GROQ_API_URL = \"https://api.groq.com/openai/v1/chat/completions\"\n",
        "\n",
        "\n",
        "\n",
        "def get_repo_files(owner, repo):\n",
        "    \"\"\"Fetch the file structure of the GitHub repository.\"\"\"\n",
        "    url = f\"{GITHUB_API_URL}{owner}/{repo}/git/trees/main?recursive=1\"\n",
        "    headers = {\"Authorization\": f\"token {GITHUB_TOKEN}\"}\n",
        "\n",
        "    response = requests.get(url, headers=headers, verify=certifi.where())\n",
        "    if response.status_code == 200:\n",
        "        files = [file[\"path\"] for file in response.json().get(\"tree\", []) if file[\"type\"] == \"blob\"]\n",
        "        return files\n",
        "    else:\n",
        "        print(f\"❌ Error: {response.status_code} - {response.text}\")\n",
        "        return []\n",
        "\n",
        "def get_file_content(owner, repo, file_path):\n",
        "    \"\"\"Fetch content of a specific file from GitHub.\"\"\"\n",
        "    url = f\"{GITHUB_API_URL}{owner}/{repo}/contents/{file_path}\"\n",
        "    headers = {\"Authorization\": f\"token {GITHUB_TOKEN}\"}\n",
        "\n",
        "    response = requests.get(url, headers=headers)\n",
        "    if response.status_code == 200:\n",
        "        return response.json().get(\"content\", \"\").encode(\"utf-8\").decode(\"utf-8\")  # Decode base64 content\n",
        "    else:\n",
        "        print(f\"⚠️ Could not fetch {file_path}: {response.status_code}\")\n",
        "        return \"\"\n",
        "\n",
        "def send_to_groq(repo_files, file_contents, feature_description):\n",
        "    \"\"\"Sends repo structure and file content to Groq API for code suggestions.\"\"\"\n",
        "    headers = {\n",
        "        \"Authorization\": f\"Bearer {GROQ_API_KEY}\",\n",
        "        \"Content-Type\": \"application/json\"\n",
        "    }\n",
        "\n",
        "    prompt = f\"\"\"\n",
        "    You are an expert software developer. This repository contains these files:\n",
        "    {repo_files}\n",
        "\n",
        "    Some key file contents:\n",
        "    {file_contents}\n",
        "\n",
        "    A new feature needs to be added: {feature_description}\n",
        "\n",
        "    Based on the existing structure, provide a **detailed step-by-step guide** on:\n",
        "    1. **Which files need modification?**\n",
        "    2. **What code changes should be made?** (Include code snippets)\n",
        "    3. **Any new dependencies or configurations required?**\n",
        "\n",
        "    Your response should be **clear and structured**.\n",
        "    \"\"\"\n",
        "\n",
        "    data = {\n",
        "        \"model\": \"llama3-8b-8192\",\n",
        "        \"messages\": [\n",
        "            {\"role\": \"system\", \"content\": \"You are a coding assistant that provides precise modification suggestions.\"},\n",
        "            {\"role\": \"user\", \"content\": prompt}\n",
        "        ],\n",
        "        \"temperature\": 0.5,\n",
        "        \"max_tokens\": 1000\n",
        "    }\n",
        "\n",
        "    response = requests.post(GROQ_API_URL, headers=headers, json=data)\n",
        "\n",
        "    if response.status_code == 200:\n",
        "        return response.json().get(\"choices\", [{}])[0].get(\"message\", {}).get(\"content\", \"No response from model.\")\n",
        "    else:\n",
        "        return f\"Error: {response.status_code} - {response.text}\"\n",
        "\n",
        "def main():\n",
        "    repo_url = input(\"Enter GitHub repository URL (e.g., username/reponame): \").strip()\n",
        "    feature_desc = input(\"Describe the new feature: \").strip()\n",
        "\n",
        "    try:\n",
        "        owner, repo = repo_url.split(\"/\")\n",
        "        print(\"🔍 Fetching repository structure...\")\n",
        "        repo_files = get_repo_files(owner, repo)\n",
        "\n",
        "        if not repo_files:\n",
        "            print(\"⚠️ No files found in repository.\")\n",
        "            return\n",
        "\n",
        "        # Fetch key file contents (limit to first 3 files to avoid API limits)\n",
        "        key_files = repo_files[:3]\n",
        "        file_contents = {file: get_file_content(owner, repo, file) for file in key_files}\n",
        "        #file_contents = {file: get_file_content(owner, repo, file)[:500]}\n",
        "        print(\"the file_contents got is : \",file_contents)\n",
        "        print(\"the key_files got is : \", key_files)\n",
        "\n",
        "        print(\"✅ Repository analyzed. Sending request to Groq API...\")\n",
        "\n",
        "        suggestions = send_to_groq(repo_files, file_contents, feature_desc)\n",
        "        print(\"\\n📌 Suggested Code Changes:\\n\", suggestions)\n",
        "\n",
        "    except Exception as e:\n",
        "        print(f\"❌ Error: {e}\")\n",
        "\n",
        "if __name__ == \"__main__\":\n",
        "    main()\n"
      ],
      "metadata": {
        "id": "vDIFqZ4c2nrL",
        "outputId": "520a6459-b592-4047-9e00-cb908e51b00e",
        "colab": {
          "base_uri": "https://localhost:8080/"
        }
      },
      "execution_count": 19,
      "outputs": [
        {
          "output_type": "stream",
          "name": "stdout",
          "text": [
            "Enter GitHub repository URL (e.g., username/reponame): sarath-777/Sarath_26-02_2025\n",
            "Describe the new feature: this is a chat bot make this chatbot only answer to questions regarding webdevelopment , if any question is asked other than web development donot answer them.\n",
            "🔍 Fetching repository structure...\n",
            "the file_contents got is :  {'README.md': 'IiMgU2FyYXRoXzI2LTAyXzIwMjUiIAo=\\n', 'chatbot.ipynb': 'ewogICJjZWxscyI6IFsKICAgIHsKICAgICAgImNlbGxfdHlwZSI6ICJtYXJr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\\nbmJmb3JtYXRfbWlub3IiOiAwCn0=\\n'}\n",
            "the key_files got is :  ['README.md', 'chatbot.ipynb']\n",
            "✅ Repository analyzed. Sending request to Groq API...\n",
            "\n",
            "📌 Suggested Code Changes:\n",
            " Error: 400 - {\"error\":{\"message\":\"Please reduce the length of the messages or completion.\",\"type\":\"invalid_request_error\",\"param\":\"messages\",\"code\":\"context_length_exceeded\"}}\n",
            "\n"
          ]
        }
      ]
    },
    {
      "cell_type": "markdown",
      "source": [
        "sarath-777/Sarath_26-02_2025"
      ],
      "metadata": {
        "id": "hX-wsT7HGbR-"
      }
    },
    {
      "cell_type": "markdown",
      "source": [
        "\n",
        "this is a chat bot make this chatbot only answer to questions regarding webdevelopment , if any question is asked other than web development donot answer them.\n"
      ],
      "metadata": {
        "id": "XA98H5xuGccP"
      }
    },
    {
      "cell_type": "markdown",
      "source": [],
      "metadata": {
        "id": "3CAHfxQuGisT"
      }
    }
  ],
  "metadata": {
    "colab": {
      "name": "Welcome To Colab",
      "provenance": [],
      "include_colab_link": true
    },
    "kernelspec": {
      "display_name": "Python 3",
      "name": "python3"
    }
  },
  "nbformat": 4,
  "nbformat_minor": 0
}